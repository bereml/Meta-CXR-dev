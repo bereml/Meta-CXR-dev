{
 "cells": [
  {
   "cell_type": "markdown",
   "metadata": {},
   "source": [
    "# Results"
   ]
  },
  {
   "cell_type": "code",
   "execution_count": 1,
   "metadata": {},
   "outputs": [],
   "source": [
    "from os import makedirs\n",
    "from os.path import join\n",
    "\n",
    "import matplotlib.patches as mpatches\n",
    "import matplotlib.pyplot as plt\n",
    "import pandas as pd\n",
    "import seaborn as sns\n",
    "from matplotlib.axes import Axes\n",
    "from matplotlib.legend import Legend\n",
    "\n",
    "\n",
    "plt.rcParams.update({\n",
    "    'text.latex.preamble': r'\\usepackage{cmbright}',\n",
    "    'text.usetex': True,\n",
    "    'font.family': 'serif',\n",
    "})\n",
    "color_palette = sns.color_palette('deep')\n",
    "plt.rc('grid', linestyle=\"dotted\", color='lightgrey')\n",
    "\n",
    "results_dir = '../rpaper'\n",
    "plots_dir = 'paper_plots'\n",
    "\n",
    "arch_name = {\n",
    "    'convnext-atto': 'ConvnextAtto',\n",
    "    'convnext-tiny': 'ConvNextTiny',\n",
    "    'convnextv2-atto': 'Convnextv2Atto',\n",
    "    'convnextv2-nano': 'Convnextv2Nano',\n",
    "    'convnextv2-tiny': 'Convnextv2Tiny',\n",
    "    'densenet121': 'DenseNet121',\n",
    "    'densenet161': 'DenseNet161',\n",
    "    'mobilenetv3-small-075': 'MobileNetV3-Small-0.75',\n",
    "    'mobilenetv3-large-100': 'MobileNetV3-Large-1.0',\n",
    "    'mobilevitv2-050': 'MobileViTv2-0.5',\n",
    "    'mobilevitv2-100': 'MobileViTv2-1.0',\n",
    "    'mobilevitv2-200': 'MobileViTv2-2.0',\n",
    "\n",
    "}\n",
    "\n",
    "def format_pm(s: str) -> str:\n",
    "    if isinstance(s, str) and '±' in s:\n",
    "        return s.replace('±', '\\\\pm')\n",
    "    else:\n",
    "        return s\n",
    "\n",
    "makedirs(plots_dir, exist_ok=True)"
   ]
  },
  {
   "cell_type": "markdown",
   "metadata": {},
   "source": [
    "### Task Complexity"
   ]
  },
  {
   "cell_type": "code",
   "execution_count": null,
   "metadata": {},
   "outputs": [],
   "source": [
    "# TODO"
   ]
  },
  {
   "cell_type": "markdown",
   "metadata": {},
   "source": [
    "### Subpopulation Shift"
   ]
  },
  {
   "cell_type": "code",
   "execution_count": 2,
   "metadata": {},
   "outputs": [
    {
     "data": {
      "text/html": [
       "<div>\n",
       "<style scoped>\n",
       "    .dataframe tbody tr th:only-of-type {\n",
       "        vertical-align: middle;\n",
       "    }\n",
       "\n",
       "    .dataframe tbody tr th {\n",
       "        vertical-align: top;\n",
       "    }\n",
       "\n",
       "    .dataframe thead th {\n",
       "        text-align: right;\n",
       "    }\n",
       "</style>\n",
       "<table border=\"1\" class=\"dataframe\">\n",
       "  <thead>\n",
       "    <tr style=\"text-align: right;\">\n",
       "      <th></th>\n",
       "      <th>Decade</th>\n",
       "      <th>Seen</th>\n",
       "      <th>Unseen</th>\n",
       "      <th>HM</th>\n",
       "    </tr>\n",
       "  </thead>\n",
       "  <tbody>\n",
       "    <tr>\n",
       "      <th>0</th>\n",
       "      <td>2</td>\n",
       "      <td>82.55±0.12</td>\n",
       "      <td>89.20±0.15</td>\n",
       "      <td>85.48±0.12</td>\n",
       "    </tr>\n",
       "    <tr>\n",
       "      <th>1</th>\n",
       "      <td>3</td>\n",
       "      <td>83.56±0.14</td>\n",
       "      <td>88.92±0.20</td>\n",
       "      <td>85.57±0.14</td>\n",
       "    </tr>\n",
       "    <tr>\n",
       "      <th>2</th>\n",
       "      <td>4</td>\n",
       "      <td>84.89±0.12</td>\n",
       "      <td>88.81±0.20</td>\n",
       "      <td>86.34±0.13</td>\n",
       "    </tr>\n",
       "    <tr>\n",
       "      <th>3</th>\n",
       "      <td>5</td>\n",
       "      <td>84.66±0.12</td>\n",
       "      <td>88.93±0.18</td>\n",
       "      <td>86.31±0.12</td>\n",
       "    </tr>\n",
       "    <tr>\n",
       "      <th>4</th>\n",
       "      <td>6</td>\n",
       "      <td>84.75±0.13</td>\n",
       "      <td>85.49±0.23</td>\n",
       "      <td>84.51±0.15</td>\n",
       "    </tr>\n",
       "    <tr>\n",
       "      <th>5</th>\n",
       "      <td>7</td>\n",
       "      <td>84.73±0.13</td>\n",
       "      <td>82.53±0.28</td>\n",
       "      <td>82.70±0.19</td>\n",
       "    </tr>\n",
       "    <tr>\n",
       "      <th>6</th>\n",
       "      <td>8</td>\n",
       "      <td>84.24±0.16</td>\n",
       "      <td>79.37±0.38</td>\n",
       "      <td>79.77±0.28</td>\n",
       "    </tr>\n",
       "  </tbody>\n",
       "</table>\n",
       "</div>"
      ],
      "text/plain": [
       "   Decade        Seen      Unseen          HM\n",
       "0       2  82.55±0.12  89.20±0.15  85.48±0.12\n",
       "1       3  83.56±0.14  88.92±0.20  85.57±0.14\n",
       "2       4  84.89±0.12  88.81±0.20  86.34±0.13\n",
       "3       5  84.66±0.12  88.93±0.18  86.31±0.12\n",
       "4       6  84.75±0.13  85.49±0.23  84.51±0.15\n",
       "5       7  84.73±0.13  82.53±0.28  82.70±0.19\n",
       "6       8  84.24±0.16  79.37±0.38  79.77±0.28"
      ]
     },
     "execution_count": 2,
     "metadata": {},
     "output_type": "execute_result"
    }
   ],
   "source": [
    "def load_age_df():\n",
    "    df = pd.read_csv(join(results_dir, 'shift_pop', 'exp_mtst.csv'))\n",
    "    df = df[df.run.str.startswith('age_decade')]\n",
    "    df['Decade'] = df['run'].str.split('_', expand=True)[1].str[6:].astype(int)\n",
    "    df['Unseen'] = df['unseen']\n",
    "    df['Seen'] = df['seen']\n",
    "    df['HM'] = df['hm']\n",
    "    df = df[['Decade', 'Seen',  'Unseen', 'HM']]\n",
    "    return df\n",
    "\n",
    "age_df = load_age_df()\n",
    "age_df\n"
   ]
  },
  {
   "cell_type": "code",
   "execution_count": 3,
   "metadata": {},
   "outputs": [
    {
     "name": "stdout",
     "output_type": "stream",
     "text": [
      "Figure(640x480)\n"
     ]
    },
    {
     "data": {
      "image/png": "[encoded data removed]",
      "text/plain": [
       "<Figure size 640x480 with 1 Axes>"
      ]
     },
     "metadata": {},
     "output_type": "display_data"
    },
    {
     "data": {
      "text/plain": [
       "<Figure size 640x480 with 0 Axes>"
      ]
     },
     "metadata": {},
     "output_type": "display_data"
    }
   ],
   "source": [
    "def generate_age_plot(df: pd.DataFrame):\n",
    "    df = df.copy()\n",
    "    df['Unseen'] = df['Unseen'].str[:5].astype(float)\n",
    "    df['Seen'] = df['Seen'].str[:5].astype(float)\n",
    "    df['HM'] = df['HM'].str[:5].astype(float)\n",
    "\n",
    "    fig, ax = plt.subplots()\n",
    "    ax: Axes = ax\n",
    "    print(plt.figure())\n",
    "\n",
    "    df.plot(\n",
    "        x='Decade', y='HM',\n",
    "        ax=ax,\n",
    "        marker='.', linestyle='solid',\n",
    "        color=color_palette[0]\n",
    "    )\n",
    "\n",
    "    df.plot(\n",
    "        x='Decade', y='Unseen',\n",
    "        ax=ax,\n",
    "        marker='.', linestyle='dotted',\n",
    "        alpha=0.5, color=color_palette[0]\n",
    "    )\n",
    "\n",
    "    df.plot(\n",
    "        x='Decade', y='Seen',\n",
    "        ax=ax,\n",
    "        marker='.', linestyle='dashed',\n",
    "        alpha=0.5, color=color_palette[0]\n",
    "    )\n",
    "\n",
    "    labels = ['[10, 20]', '[21, 30]', '[31, 40]', '[41, 50]',\n",
    "              '[51, 60]', '[61, 70]', '[71, 80]']\n",
    "    ax.set_xticks(range(2, 9), labels)\n",
    "    ax.set_xlabel('Decade')\n",
    "    ax.set_ylabel('AUC-ROC')\n",
    "\n",
    "    ax.tick_params(axis='both', which='major', labelsize='small')\n",
    "    ax.tick_params(axis='both', which='minor', labelsize='small')\n",
    "\n",
    "    ax.grid()\n",
    "    fig.tight_layout()\n",
    "    fig.savefig(join(plots_dir, 'subpop_age.pdf'))\n",
    "\n",
    "\n",
    "generate_age_plot(age_df)"
   ]
  },
  {
   "cell_type": "markdown",
   "metadata": {},
   "source": [
    "### Resolution"
   ]
  },
  {
   "cell_type": "code",
   "execution_count": null,
   "metadata": {},
   "outputs": [],
   "source": [
    "# TODO"
   ]
  },
  {
   "cell_type": "markdown",
   "metadata": {},
   "source": [
    "### Architectures"
   ]
  },
  {
   "cell_type": "code",
   "execution_count": 4,
   "metadata": {},
   "outputs": [],
   "source": [
    "# TODO"
   ]
  }
 ],
 "metadata": {
  "kernelspec": {
   "display_name": "meta-cxr",
   "language": "python",
   "name": "python3"
  },
  "language_info": {
   "codemirror_mode": {
    "name": "ipython",
    "version": 3
   },
   "file_extension": ".py",
   "mimetype": "text/x-python",
   "name": "python",
   "nbconvert_exporter": "python",
   "pygments_lexer": "ipython3",
   "version": "3.12.3"
  }
 },
 "nbformat": 4,
 "nbformat_minor": 2
}
